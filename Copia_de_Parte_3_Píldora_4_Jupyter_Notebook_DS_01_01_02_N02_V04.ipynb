{
  "cells": [
    {
      "cell_type": "markdown",
      "metadata": {
        "id": "view-in-github",
        "colab_type": "text"
      },
      "source": [
        "<a href=\"https://colab.research.google.com/github/Pedropas95/ONLINE_DS_THEBRIDGE_pedro-lopez/blob/main/Copia_de_Parte_3_P%C3%ADldora_4_Jupyter_Notebook_DS_01_01_02_N02_V04.ipynb\" target=\"_parent\"><img src=\"https://colab.research.google.com/assets/colab-badge.svg\" alt=\"Open In Colab\"/></a>"
      ]
    },
    {
      "cell_type": "markdown",
      "metadata": {
        "id": "0TWx1mQysz71"
      },
      "source": [
        "<img src=\"./img/TheBridge_logo_RGB_color.jpg\" width = 500>\n",
        "<img src=\"./img/python.jpg\" width = 500>"
      ]
    },
    {
      "cell_type": "markdown",
      "metadata": {
        "id": "SJZLx68ysz77"
      },
      "source": [
        "# Python Basics I: Print, Comentarios y otros aspectos básicos\n",
        "\n",
        "En este notebook vamos a profundizar un poquito más en el uso de la función print, además de ver cómo usar los comentarios, la importancia del flujo secuencial de ejecución de python y terminaremos con el uso del comando para liberar memoria, `del`."
      ]
    },
    {
      "cell_type": "markdown",
      "metadata": {
        "id": "yQBSE68Asz7_"
      },
      "source": [
        "## Contenidos"
      ]
    },
    {
      "cell_type": "markdown",
      "metadata": {
        "id": "Ri_YEvIFsz7_"
      },
      "source": [
        "* [Print](#Print)\n",
        "* [Comentarios\n",
        "](#Comentarios\n",
        ")\n",
        "* [Flujos de ejecución\n",
        "](#Flujos-de-ejecución\n",
        ")\n",
        "* [Del\n",
        "](#Del\n",
        ")\n"
      ]
    },
    {
      "cell_type": "markdown",
      "metadata": {
        "id": "Sq7AaR0Ksz8A"
      },
      "source": [
        "## Print[al indice](#Contenidos)\n"
      ]
    },
    {
      "cell_type": "markdown",
      "metadata": {
        "id": "VUDSdhRmsz8B"
      },
      "source": [
        "Hasta ahora hemos visto en Jupyter dos tipos de celdas:\n",
        "* **Markdown**: básicamente texto para las explicaciones\n",
        "* **Código**: donde insertamos el código Python y lo ejecutamos\n",
        "\n",
        "Las celdas de código, no solo corren el código y realizan todas las operaciones que le indiquemos, sino que también tienen un output, una salida de ese código. Tenemos dos opciones para ver el output del código, o bien mediante `print`, o poniendo una variable al final de la celda. En este último caso, veremos el valor de esa variable"
      ]
    },
    {
      "cell_type": "code",
      "execution_count": null,
      "metadata": {
        "id": "bClFVzBrsz8F"
      },
      "outputs": [],
      "source": [
        "ingresos = 1000\n",
        "gastos = 100\n",
        "beneficios = ingresos - gastos"
      ]
    },
    {
      "cell_type": "code",
      "execution_count": null,
      "metadata": {
        "id": "h0oHArOUsz8G",
        "outputId": "810db6e0-43d3-4273-ec65-0e0248bb34e9",
        "colab": {
          "base_uri": "https://localhost:8080/"
        }
      },
      "outputs": [
        {
          "output_type": "stream",
          "name": "stdout",
          "text": [
            "1000\n",
            "100\n",
            "Los beneficios han sido de:\n",
            "900\n"
          ]
        }
      ],
      "source": [
        "print(ingresos)\n",
        "print(gastos)\n",
        "print(\"Los beneficios han sido de:\")\n",
        "print(beneficios)"
      ]
    },
    {
      "cell_type": "markdown",
      "metadata": {
        "id": "Ztq4hPUGsz8H"
      },
      "source": [
        "Si hacemos un print de un texto, podemos concatenar valores de variables mediante `%s`."
      ]
    },
    {
      "cell_type": "code",
      "execution_count": null,
      "metadata": {
        "id": "9HtC_3Jasz8I",
        "outputId": "c60ec764-eebb-493b-8ba4-b9dceb28da6b",
        "colab": {
          "base_uri": "https://localhost:8080/"
        }
      },
      "outputs": [
        {
          "output_type": "stream",
          "name": "stdout",
          "text": [
            "Los beneficios de junio han sido de 900 millones\n"
          ]
        }
      ],
      "source": [
        "mes = \"junio\"\n",
        "print(\"Los beneficios de %s han sido de %s millones\" %(mes,beneficios))"
      ]
    },
    {
      "cell_type": "code",
      "source": [
        "print(\"Los beneficios de %s han sido de %s millones\" %(beneficios,mes))"
      ],
      "metadata": {
        "id": "c_sfummyxeB_",
        "outputId": "bce2b68c-ffdb-427f-d5b5-f6e2ff99c055",
        "colab": {
          "base_uri": "https://localhost:8080/"
        }
      },
      "execution_count": null,
      "outputs": [
        {
          "output_type": "stream",
          "name": "stdout",
          "text": [
            "Los beneficios de 900 han sido de junio millones\n"
          ]
        }
      ]
    },
    {
      "cell_type": "markdown",
      "metadata": {
        "id": "W_OVzYZpsz8J"
      },
      "source": [
        "Otra opcion si queremos imprimir por pantalla varios strings, es separandolos por comas en el `print`. Fíjate que le añade espacios en la salida cada vez que ponemos un valor nuevo entre comas."
      ]
    },
    {
      "cell_type": "code",
      "execution_count": null,
      "metadata": {
        "id": "e7GTTG7Asz8K",
        "outputId": "57baf636-c70b-4a91-f9aa-5045625291a4",
        "colab": {
          "base_uri": "https://localhost:8080/"
        }
      },
      "outputs": [
        {
          "output_type": "stream",
          "name": "stdout",
          "text": [
            "Los beneficios de agosto han sido 900 millones\n"
          ]
        }
      ],
      "source": [
        "mes = \"agosto\"\n",
        "print(\"Los beneficios de\",mes,\"han sido\", beneficios, \"millones\")"
      ]
    },
    {
      "cell_type": "markdown",
      "metadata": {
        "id": "vdj2DkwVsz8K"
      },
      "source": [
        "## Comentarios\n",
        "[al indice](#Contenidos)\n",
        "Se trata de texto que va junto con el código, y que el intérprete de Python ignora por completo. Muy útil para documentar y explicar el código"
      ]
    },
    {
      "cell_type": "code",
      "execution_count": null,
      "metadata": {
        "id": "tNN4NXBosz8L",
        "outputId": "20d66c90-abd3-4bbc-fc7a-e229cc2770ac",
        "colab": {
          "base_uri": "https://localhost:8080/"
        }
      },
      "outputs": [
        {
          "output_type": "stream",
          "name": "stdout",
          "text": [
            "Esto sí lo ejecutará\n"
          ]
        }
      ],
      "source": [
        "# Comentario de línea\n",
        "# print(\"Esto lo ignora\")\n",
        "\n",
        "print(\"Esto sí lo ejecutará\")"
      ]
    },
    {
      "cell_type": "code",
      "execution_count": 1,
      "metadata": {
        "id": "xAMl3XMZsz8L",
        "colab": {
          "base_uri": "https://localhost:8080/"
        },
        "outputId": "55205e67-04fb-433d-f010-6bd6671dbd6d"
      },
      "outputs": [
        {
          "output_type": "stream",
          "name": "stdout",
          "text": [
            "Fin del programa\n"
          ]
        }
      ],
      "source": [
        "print(\"Fin del programa\") # Esta línea indica que hemos terminado"
      ]
    },
    {
      "cell_type": "code",
      "execution_count": 2,
      "metadata": {
        "id": "kLfdySz4sz8M",
        "colab": {
          "base_uri": "https://localhost:8080/"
        },
        "outputId": "aae0cc8d-d77b-40ba-b1ab-2ad94a4e26f6"
      },
      "outputs": [
        {
          "output_type": "stream",
          "name": "stdout",
          "text": [
            "Este print sí que se ejecuta\n"
          ]
        }
      ],
      "source": [
        "'''\n",
        "Comentario multilínea\n",
        "Puedo usar varias líneas sin tener que repetir el #\n",
        "'''\n",
        "\n",
        "\"\"\"\n",
        "Los comentarios multilínea pueden ir entre comillas dobles\n",
        "y tampoco se ejecutan o interpretan.\n",
        "este print(\"No se va a ejecutar\")\n",
        "\"\"\"\n",
        "\n",
        "print(\"Este print sí que se ejecuta\")"
      ]
    },
    {
      "cell_type": "code",
      "execution_count": null,
      "metadata": {
        "id": "mKjNNl9usz8M"
      },
      "outputs": [],
      "source": []
    },
    {
      "cell_type": "markdown",
      "metadata": {
        "id": "YjKKvIcvsz8N"
      },
      "source": [
        "**IMPORTATE**. SIEMPRE comentar el código. Nunca sabes quén lo puede heredar. Te dejo en [este link](https://realpython.com/python-comments-guide/) una guía interesante sobre cómo comentar tu código."
      ]
    },
    {
      "cell_type": "markdown",
      "metadata": {
        "id": "DvY8MqBFsz8P"
      },
      "source": [
        "## Flujos de ejecución\n",
        "[al indice](#Contenidos)\n",
        "Los programas de Python se ejecutan secuencialmente, por lo que el orden en el que escribas las operaciones es determinante"
      ]
    },
    {
      "cell_type": "code",
      "execution_count": 3,
      "metadata": {
        "id": "fQLF5Hi9sz8Q",
        "colab": {
          "base_uri": "https://localhost:8080/",
          "height": 176
        },
        "outputId": "7cb568cd-d458-4f96-d451-24fddecacc79"
      },
      "outputs": [
        {
          "output_type": "error",
          "ename": "NameError",
          "evalue": "name 'ventas_junio' is not defined",
          "traceback": [
            "\u001b[0;31m---------------------------------------------------------------------------\u001b[0m",
            "\u001b[0;31mNameError\u001b[0m                                 Traceback (most recent call last)",
            "\u001b[0;32m<ipython-input-3-0948369e7978>\u001b[0m in \u001b[0;36m<cell line: 0>\u001b[0;34m()\u001b[0m\n\u001b[0;32m----> 1\u001b[0;31m \u001b[0mventas_jun_jul\u001b[0m \u001b[0;34m=\u001b[0m \u001b[0mventas_junio\u001b[0m \u001b[0;34m+\u001b[0m \u001b[0mventas_julio\u001b[0m\u001b[0;34m\u001b[0m\u001b[0;34m\u001b[0m\u001b[0m\n\u001b[0m\u001b[1;32m      2\u001b[0m \u001b[0mventas_junio\u001b[0m \u001b[0;34m=\u001b[0m \u001b[0;36m100\u001b[0m\u001b[0;34m\u001b[0m\u001b[0;34m\u001b[0m\u001b[0m\n\u001b[1;32m      3\u001b[0m \u001b[0mventas_julio\u001b[0m \u001b[0;34m=\u001b[0m \u001b[0;36m150\u001b[0m\u001b[0;34m\u001b[0m\u001b[0;34m\u001b[0m\u001b[0m\n",
            "\u001b[0;31mNameError\u001b[0m: name 'ventas_junio' is not defined"
          ]
        }
      ],
      "source": [
        "ventas_jun_jul = ventas_junio + ventas_julio\n",
        "ventas_junio = 100\n",
        "ventas_julio = 150"
      ]
    },
    {
      "cell_type": "code",
      "execution_count": 4,
      "metadata": {
        "id": "bHDb4Wu0sz8R",
        "colab": {
          "base_uri": "https://localhost:8080/",
          "height": 141
        },
        "outputId": "27fdf228-1acc-40a1-a153-0c8e7364e42c"
      },
      "outputs": [
        {
          "output_type": "error",
          "ename": "NameError",
          "evalue": "name 'ventas_junio' is not defined",
          "traceback": [
            "\u001b[0;31m---------------------------------------------------------------------------\u001b[0m",
            "\u001b[0;31mNameError\u001b[0m                                 Traceback (most recent call last)",
            "\u001b[0;32m<ipython-input-4-a5a41b63b28a>\u001b[0m in \u001b[0;36m<cell line: 0>\u001b[0;34m()\u001b[0m\n\u001b[0;32m----> 1\u001b[0;31m \u001b[0mventas_junio\u001b[0m\u001b[0;34m\u001b[0m\u001b[0;34m\u001b[0m\u001b[0m\n\u001b[0m",
            "\u001b[0;31mNameError\u001b[0m: name 'ventas_junio' is not defined"
          ]
        }
      ],
      "source": [
        "ventas_junio"
      ]
    },
    {
      "cell_type": "markdown",
      "metadata": {
        "id": "AQad9bd5sz8R"
      },
      "source": [
        "**Da error**, primero tenemos que declarar las ventas, y luego sumarlas.\n"
      ]
    },
    {
      "cell_type": "code",
      "execution_count": 6,
      "metadata": {
        "id": "8eK59bISsz8S",
        "colab": {
          "base_uri": "https://localhost:8080/"
        },
        "outputId": "3a173774-be66-4db0-9b51-e36335cc561d"
      },
      "outputs": [
        {
          "output_type": "stream",
          "name": "stdout",
          "text": [
            "250\n"
          ]
        }
      ],
      "source": [
        "ventas_junio = 100\n",
        "ventas_julio = 150\n",
        "ventas_jun_jul = ventas_junio + ventas_julio\n",
        "print(ventas_jun_jul)"
      ]
    },
    {
      "cell_type": "code",
      "source": [
        "print(\"Las ventas de junio a julio son\", ventas_jun_jul)"
      ],
      "metadata": {
        "colab": {
          "base_uri": "https://localhost:8080/"
        },
        "id": "wsNRjiNm1h7R",
        "outputId": "7673cfda-1d40-4f5f-a63b-f901bf77c09c"
      },
      "execution_count": 7,
      "outputs": [
        {
          "output_type": "stream",
          "name": "stdout",
          "text": [
            "Las ventas de junio a julio son 250\n"
          ]
        }
      ]
    },
    {
      "cell_type": "markdown",
      "metadata": {
        "id": "RpiNY_DDsz8T"
      },
      "source": [
        "\n",
        "**¿Cuándo acaba una línea de código?**. El salto de línea lo interpreta Python como una nueva instrucción. En muchos lengujes, como Java hay que especificar el fin de la sentencia de código mediante `;`. En Python no es necesario, aunque se puede usar igualmente."
      ]
    },
    {
      "cell_type": "code",
      "execution_count": 8,
      "metadata": {
        "id": "1Y36Th3asz8U",
        "colab": {
          "base_uri": "https://localhost:8080/"
        },
        "outputId": "53645be2-0dc4-477b-f0e5-c18820c681f3"
      },
      "outputs": [
        {
          "output_type": "stream",
          "name": "stdout",
          "text": [
            "1.8 75\n"
          ]
        }
      ],
      "source": [
        "altura = 1.80; peso = 75\n",
        "print(altura, peso)"
      ]
    },
    {
      "cell_type": "code",
      "execution_count": 9,
      "metadata": {
        "id": "DeNp6TuOsz8V"
      },
      "outputs": [],
      "source": [
        "x,y,z = 12,23,45\n"
      ]
    },
    {
      "cell_type": "code",
      "source": [
        "x = 12\n",
        "y = 23\n",
        "z = 45"
      ],
      "metadata": {
        "id": "j_wZbyJk2C_v"
      },
      "execution_count": 10,
      "outputs": []
    },
    {
      "cell_type": "markdown",
      "metadata": {
        "id": "05D06kawsz8V"
      },
      "source": [
        "## Del\n",
        "[al indice](#Contenidos)\n",
        "Es la sentencia que usaremos para borrar una variable. La verdad, no se suelen borrar variables. Vamos desarrollando los programas de Python sin preocuparnos de limpiar aquellas variables que no usamos. Normalmente no borrarlas no suele ser un problema, pero cuando manejamos un gran volumen de datos, podemos sufrir problemas de rendimiento ya que **las variables ocupan memoria**.\n",
        "\n",
        "Cuando las variables son las que hemos visto hasta ahora, no pasa nada, pero si son más pesadas, como por ejemplo datasets de imágenes que ocupan mucho, sí va a venir bien eliminar aquellas que no usemos."
      ]
    },
    {
      "cell_type": "code",
      "execution_count": 11,
      "metadata": {
        "id": "iw3UNr4xsz8W",
        "colab": {
          "base_uri": "https://localhost:8080/",
          "height": 176
        },
        "outputId": "1fccb634-d371-4150-d506-edafd0222837"
      },
      "outputs": [
        {
          "output_type": "error",
          "ename": "NameError",
          "evalue": "name 'altura' is not defined",
          "traceback": [
            "\u001b[0;31m---------------------------------------------------------------------------\u001b[0m",
            "\u001b[0;31mNameError\u001b[0m                                 Traceback (most recent call last)",
            "\u001b[0;32m<ipython-input-11-0c0b7d7f5159>\u001b[0m in \u001b[0;36m<cell line: 0>\u001b[0;34m()\u001b[0m\n\u001b[1;32m      1\u001b[0m \u001b[0maltura\u001b[0m \u001b[0;34m=\u001b[0m \u001b[0;36m1.85\u001b[0m\u001b[0;34m\u001b[0m\u001b[0;34m\u001b[0m\u001b[0m\n\u001b[1;32m      2\u001b[0m \u001b[0;32mdel\u001b[0m \u001b[0maltura\u001b[0m\u001b[0;34m\u001b[0m\u001b[0;34m\u001b[0m\u001b[0m\n\u001b[0;32m----> 3\u001b[0;31m \u001b[0mprint\u001b[0m\u001b[0;34m(\u001b[0m\u001b[0maltura\u001b[0m\u001b[0;34m)\u001b[0m\u001b[0;34m\u001b[0m\u001b[0;34m\u001b[0m\u001b[0m\n\u001b[0m",
            "\u001b[0;31mNameError\u001b[0m: name 'altura' is not defined"
          ]
        }
      ],
      "source": [
        "altura = 1.85\n",
        "del altura\n",
        "print(altura)"
      ]
    },
    {
      "cell_type": "code",
      "execution_count": null,
      "metadata": {
        "id": "7GNp56rysz8Y"
      },
      "outputs": [],
      "source": []
    }
  ],
  "nbformat": 4,
  "nbformat_minor": 0,
  "metadata": {
    "kernelspec": {
      "display_name": "Python 3.7.4 64-bit",
      "language": "python",
      "name": "python3"
    },
    "language_info": {
      "codemirror_mode": {
        "name": "ipython",
        "version": 3
      },
      "file_extension": ".py",
      "mimetype": "text/x-python",
      "name": "python",
      "nbconvert_exporter": "python",
      "pygments_lexer": "ipython3",
      "version": "3.11.4"
    },
    "nbTranslate": {
      "displayLangs": [
        "*"
      ],
      "hotkey": "alt-t",
      "langInMainMenu": true,
      "sourceLang": "en",
      "targetLang": "fr",
      "useGoogleTranslate": true
    },
    "varInspector": {
      "cols": {
        "lenName": 16,
        "lenType": 16,
        "lenVar": 40
      },
      "kernels_config": {
        "python": {
          "delete_cmd_postfix": "",
          "delete_cmd_prefix": "del ",
          "library": "var_list.py",
          "varRefreshCmd": "print(var_dic_list())"
        },
        "r": {
          "delete_cmd_postfix": ") ",
          "delete_cmd_prefix": "rm(",
          "library": "var_list.r",
          "varRefreshCmd": "cat(var_dic_list()) "
        }
      },
      "types_to_exclude": [
        "module",
        "function",
        "builtin_function_or_method",
        "instance",
        "_Feature"
      ],
      "window_display": false
    },
    "colab": {
      "provenance": [],
      "include_colab_link": true
    }
  }
}
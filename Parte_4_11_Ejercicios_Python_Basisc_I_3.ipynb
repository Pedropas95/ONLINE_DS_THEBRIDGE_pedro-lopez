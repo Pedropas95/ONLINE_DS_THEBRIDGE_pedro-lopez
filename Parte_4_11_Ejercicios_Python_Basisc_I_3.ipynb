{
  "cells": [
    {
      "cell_type": "markdown",
      "metadata": {
        "id": "view-in-github",
        "colab_type": "text"
      },
      "source": [
        "<a href=\"https://colab.research.google.com/github/Pedropas95/ONLINE_DS_THEBRIDGE_pedro-lopez/blob/main/Parte_4_11_Ejercicios_Python_Basisc_I_3.ipynb\" target=\"_parent\"><img src=\"https://colab.research.google.com/assets/colab-badge.svg\" alt=\"Open In Colab\"/></a>"
      ]
    },
    {
      "cell_type": "markdown",
      "metadata": {
        "id": "sKRyGWlGsdhZ"
      },
      "source": [
        "![TheBridge_logo_RGB_color.jpg](attachment:TheBridge_logo_RGB_color.jpg)"
      ]
    },
    {
      "cell_type": "markdown",
      "metadata": {
        "id": "2gwMNP_Osdhb"
      },
      "source": [
        "![imagen](./img/ejercicios.png)"
      ]
    },
    {
      "cell_type": "markdown",
      "metadata": {
        "id": "ilc4heiasdhb"
      },
      "source": [
        "## EJERCICIOS PYTHON BASICO 3:\n",
        "## Operaciones matemáticas, comparación y booleanas"
      ]
    },
    {
      "cell_type": "markdown",
      "metadata": {
        "id": "-sbg3oS5sdhb"
      },
      "source": [
        "Completa los siguiente ejercicios, la solución completa a los mismos se publicarán en el repo del curso a lo largo del sprint. En algunos ejercicios se muestra la solución final, para que puedas comprobar que lo has hecho bien, pero lo importante es el código que generes. ¡Vaaamos, a ello...!"
      ]
    },
    {
      "cell_type": "markdown",
      "metadata": {
        "id": "E-NBuWXJsdhc"
      },
      "source": [
        "![ejercicio.png](./img/ejercicio.png)\n",
        "\n",
        "\n",
        "## Ejercicio 1\n",
        "Tenemos las siguientes variables:\n",
        "\n",
        "```Python\n",
        "A = 4\n",
        "B = \"Text\"\n",
        "C = 4.1\n",
        "```\n",
        "\n",
        "Comprueba:\n",
        "1. Si A y B son equivalentes\n",
        "2. Si A y C NO son equivalentes\n",
        "3. Si A es mayor que C\n",
        "4. Si C es menor o igual que A\n",
        "5. Si B NO es equivalente a C"
      ]
    },
    {
      "cell_type": "code",
      "execution_count": 10,
      "metadata": {
        "id": "_eBe9e8qsdhc",
        "outputId": "7d272609-23a3-411c-f506-9ee61b20653c",
        "colab": {
          "base_uri": "https://localhost:8080/"
        }
      },
      "outputs": [
        {
          "output_type": "stream",
          "name": "stdout",
          "text": [
            "1.\n",
            "False\n",
            "2.\n",
            "True\n",
            "3.\n",
            "False\n",
            "4.\n",
            "False\n",
            "5.\n",
            "True\n"
          ]
        }
      ],
      "source": [
        "A = 4\n",
        "B = \"Text\"\n",
        "C = 4.1\n",
        "\n",
        "print(\"1.\")\n",
        "print(type(A) == type(B))\n",
        "\n",
        "\n",
        "\n",
        "print(\"2.\")\n",
        "print(type(A) != type(C))\n",
        "\n",
        "\n",
        "\n",
        "print(\"3.\")\n",
        "print(A > C)\n",
        "\n",
        "print(\"4.\")\n",
        "print(C <= A)\n",
        "\n",
        "print(\"5.\")\n",
        "print(type(B) != type(C))"
      ]
    },
    {
      "cell_type": "markdown",
      "metadata": {
        "id": "oWMBNHWksdhd"
      },
      "source": [
        "![ejercicio.png](./img/ejercicio.png)\n",
        "\n",
        "## Ejercicio 2\n",
        "Crea un programa donde se recojan dos inputs del usuario, y el output del programa sea si esos inputs son iguales o no"
      ]
    },
    {
      "cell_type": "code",
      "execution_count": 13,
      "metadata": {
        "id": "6lnZOAdtsdhd",
        "outputId": "8449d3f8-7d11-4682-fd7f-b0b853532c31",
        "colab": {
          "base_uri": "https://localhost:8080/"
        }
      },
      "outputs": [
        {
          "output_type": "stream",
          "name": "stdout",
          "text": [
            "escribe aquíhola\n",
            "escribe otra cosaadios\n",
            "son diferentes\n"
          ]
        }
      ],
      "source": [
        "input_1 = input(\"escribe aquí\")\n",
        "input_2 = input(\"escribe otra cosa\")\n",
        "\n",
        "if input_1 == input_2:\n",
        "    print(\"son iguales\")\n",
        "else:\n",
        "    print(\"son diferentes\")"
      ]
    },
    {
      "cell_type": "markdown",
      "metadata": {
        "id": "WWNr_KUXsdhd"
      },
      "source": [
        "![ejercicio.png](./img/ejercicio.png)\n",
        "\n",
        "## Ejercicio 3\n",
        "Mismo programa que en 2, pero en esta ocasión tienen que ser tres inputs y dos salidas. Una de las salidas que nos indique si todos son iguales, y la otra si al menos dos inputs sí que lo son"
      ]
    },
    {
      "cell_type": "code",
      "execution_count": 14,
      "metadata": {
        "id": "TNxUuBtSsdhe",
        "outputId": "15128722-97d5-46c1-88a4-3775353db674",
        "colab": {
          "base_uri": "https://localhost:8080/"
        }
      },
      "outputs": [
        {
          "output_type": "stream",
          "name": "stdout",
          "text": [
            "escribe aquíhola\n",
            "escribe otra cosahola\n",
            "tercera cosaadios\n",
            "son diferentes\n",
            "al menos dos son iguales\n"
          ]
        }
      ],
      "source": [
        "input_1 = input(\"escribe aquí\")\n",
        "input_2 = input(\"escribe otra cosa\")\n",
        "input_3 = input(\"tercera cosa\")\n",
        "\n",
        "\n",
        "if input_1 == input_2 == input_3:\n",
        "    print(\"todos son iguales\")\n",
        "else:\n",
        "    print(\"son diferentes\")\n",
        "\n",
        "    if input_1 == input_2 or input_1 == input_3 or input_2==input_3:\n",
        "        print(\"al menos dos son iguales\")\n",
        "    else:\n",
        "        print(\"ninguno es igual\")"
      ]
    },
    {
      "cell_type": "markdown",
      "metadata": {
        "id": "tmsW_4Acsdhe"
      },
      "source": [
        "![ejercicio.png](./img/ejercicio.png)\n",
        "\n",
        "## Ejercicio 4\n",
        "Razona sin ejecutar código el output que obtendremos de las siguientes sentencias\n",
        "1. True and True and False\n",
        "2. not ((True or False) and (True or False))\n",
        "3. (False or False or False or True) and False\n",
        "4. not False and True and not True"
      ]
    },
    {
      "cell_type": "markdown",
      "metadata": {
        "id": "hecEJ9N6sdhe"
      },
      "source": [
        "1. True and False = False\n",
        "2. not True and True = False\n",
        "3. True and False = False\n",
        "4. True and True and False = True and False = False"
      ]
    }
  ],
  "metadata": {
    "kernelspec": {
      "display_name": "Curso_Online_DATA",
      "language": "python",
      "name": "python3"
    },
    "language_info": {
      "codemirror_mode": {
        "name": "ipython",
        "version": 3
      },
      "file_extension": ".py",
      "mimetype": "text/x-python",
      "name": "python",
      "nbconvert_exporter": "python",
      "pygments_lexer": "ipython3",
      "version": "3.11.5"
    },
    "orig_nbformat": 4,
    "colab": {
      "provenance": [],
      "include_colab_link": true
    }
  },
  "nbformat": 4,
  "nbformat_minor": 0
}
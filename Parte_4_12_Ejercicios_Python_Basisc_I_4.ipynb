{
  "cells": [
    {
      "cell_type": "markdown",
      "metadata": {
        "id": "view-in-github",
        "colab_type": "text"
      },
      "source": [
        "<a href=\"https://colab.research.google.com/github/Pedropas95/ONLINE_DS_THEBRIDGE_pedro-lopez/blob/main/Parte_4_12_Ejercicios_Python_Basisc_I_4.ipynb\" target=\"_parent\"><img src=\"https://colab.research.google.com/assets/colab-badge.svg\" alt=\"Open In Colab\"/></a>"
      ]
    },
    {
      "cell_type": "markdown",
      "metadata": {
        "id": "_fDzU33fvtxW"
      },
      "source": [
        "![TheBridge_logo_RGB_color.jpg](attachment:TheBridge_logo_RGB_color.jpg)"
      ]
    },
    {
      "cell_type": "markdown",
      "metadata": {
        "id": "kKmR8zIFvtxX"
      },
      "source": [
        "![imagen](./img/ejercicios.png)"
      ]
    },
    {
      "cell_type": "markdown",
      "metadata": {
        "id": "YHG7NEgqvtxX"
      },
      "source": [
        "## EJERCICIOS PYTHON BASICO 4:\n",
        "## Funciones, métodos, listas"
      ]
    },
    {
      "cell_type": "markdown",
      "metadata": {
        "id": "VtoafeQtvtxY"
      },
      "source": [
        "Completa los siguiente ejercicios, la solución completa a los mismos se publicarán en el repo del curso a lo largo del sprint. En algunos ejercicios se muestra la solución final, para que puedas comprobar que lo has hecho bien, pero lo importante es el código que generes. ¡Vaaamos, a ello...!"
      ]
    },
    {
      "cell_type": "markdown",
      "metadata": {
        "id": "y3SGraHPvtxY"
      },
      "source": [
        "![ejercicio.png](./img/ejercicio.png)\n",
        "\n",
        "## Ejercicio 1\n",
        "Para este ejercicio vamos a poner en práctica [las funciones built in](https://docs.python.org/3/library/functions.html).\n",
        "\n",
        "1. Calcula el máximo de la lista: [4, 6, 8, -1]\n",
        "2. Suma todos los elementos de la lista anterior\n",
        "3. Redondea este float a 3 dígitos decimales: 63.451256965\n",
        "4. Valor absoluto de: -74"
      ]
    },
    {
      "cell_type": "code",
      "execution_count": 10,
      "metadata": {
        "id": "jYDEp2vvvtxY",
        "outputId": "858f9a79-a660-4c0b-d40e-a9af648317a8",
        "colab": {
          "base_uri": "https://localhost:8080/"
        }
      },
      "outputs": [
        {
          "output_type": "stream",
          "name": "stdout",
          "text": [
            "8\n",
            "17\n",
            "63.451\n",
            "74\n"
          ]
        }
      ],
      "source": [
        "print(max([4, 6, 8, -1]))\n",
        "\n",
        "lista = [4,6,8,-1]\n",
        "print(sum(lista))\n",
        "\n",
        "\n",
        "print(round(63.451256965, 3))\n",
        "\n",
        "print(abs(-74))"
      ]
    },
    {
      "cell_type": "markdown",
      "metadata": {
        "id": "hOV8CcmwvtxY"
      },
      "source": [
        "![ejercicio.png](./img/ejercicio.png)\n",
        "\n",
        "## Ejercicio 2\n",
        "Para el siguiente string se pide imprimir por pantalla los siguientes casos\n",
        "\n",
        "    \"En un lugar de la Mancha, de cuyo nombre no quiero acordarme.\"\n",
        "\n",
        "1. Pásalo todo a mayúsculas\n",
        "2. Pásalo todo a minúsculas\n",
        "3. Solo la primera letra de cada palabra en mayúscula, el resto en minúscula\n",
        "4. Crea una lista dividiéndolo por sus espacios\n",
        "5. Sustituye las comas `,` por puntos y comas `;`\n",
        "6. Elimina las `a` minúsculas"
      ]
    },
    {
      "cell_type": "code",
      "execution_count": 15,
      "metadata": {
        "id": "av8kQAq9vtxZ",
        "outputId": "8c8d6fd7-ca43-44cd-9318-2f46a358422a",
        "colab": {
          "base_uri": "https://localhost:8080/"
        }
      },
      "outputs": [
        {
          "output_type": "stream",
          "name": "stdout",
          "text": [
            "EN UN LUGAR DE LA MANCHA, DE CUYO NOMBRE NO QUIERO ACORDARME.\n",
            "en un lugar de la mancha, de cuyo nombre no quiero acordarme.\n",
            "En Un Lugar De La Mancha, De Cuyo Nombre No Quiero Acordarme.\n",
            "['En', 'un', 'lugar', 'de', 'la', 'Mancha,', 'de', 'cuyo', 'nombre', 'no', 'quiero', 'acordarme.']\n",
            "En un lugar de la Mancha; de cuyo nombre no quiero acordarme.\n",
            "En un lugr de l Mnch, de cuyo nombre no quiero cordrme.\n"
          ]
        }
      ],
      "source": [
        "str_1 = \"En un lugar de la Mancha, de cuyo nombre no quiero acordarme.\"\n",
        "\n",
        "print(str_1.upper())\n",
        "\n",
        "print(str_1.lower())\n",
        "\n",
        "print(str_1.title())\n",
        "\n",
        "print(str_1.split())\n",
        "\n",
        "print(str_1.replace(\",\", \";\"))\n",
        "\n",
        "print(str_1.replace(\"a\", \"\"))\n"
      ]
    },
    {
      "cell_type": "markdown",
      "metadata": {
        "id": "JyLcnQtuvtxZ"
      },
      "source": [
        "![ejercicio.png](./img/ejercicio.png)\n",
        "\n",
        "## Ejercicio 3\n",
        "1. Crea una lista con 3 elementos numéricos\n",
        "2. Añade un cuarto elemento\n",
        "3. Calcula la suma de todos\n",
        "4. Elimina el segundo elemento de la lista\n",
        "5. Añade otro elemento en la posicion 3 de la lista\n",
        "6. Crea otra lista con 4 elementos y concaténala a la que ya tenías.\n",
        "7. Ordena la lista de menor a mayor.\n",
        "8. BONUS: Ordena la lista de mayor a menor.  \n",
        "(*PISTA: Para hacer 8, tendrás que buscar en la información del método...*)  \n",
        "  \n",
        "  \n",
        "NOTA: Pinta por pantalla el resultado de cada paso."
      ]
    },
    {
      "cell_type": "code",
      "execution_count": 43,
      "metadata": {
        "id": "Nop_8UCOvtxZ",
        "outputId": "9a8b8d94-e70c-438f-95ec-81e8d0e91359",
        "colab": {
          "base_uri": "https://localhost:8080/"
        }
      },
      "outputs": [
        {
          "output_type": "stream",
          "name": "stdout",
          "text": [
            "1:\n",
            "[1, 2, 3]\n",
            "2:\n",
            "[1, 2, 3, 4]\n",
            "3:\n",
            "10\n",
            "4:\n",
            "[1, 3, 4]\n",
            "5:\n",
            "[1, 3, 7, 4]\n",
            "6:\n",
            "[1, 3, 7, 4, 5, 6, 7, 8]\n",
            "7:\n",
            "[1, 3, 4, 5, 6, 7, 7, 8]\n",
            "8:\n",
            "[8, 7, 7, 6, 5, 4, 3, 1]\n"
          ]
        }
      ],
      "source": [
        "print(\"1:\")\n",
        "lista = [1, 2, 3]\n",
        "print(lista_1)\n",
        "\n",
        "print(\"2:\")\n",
        "lista.append(4)\n",
        "print(lista)\n",
        "\n",
        "print(\"3:\")\n",
        "print(sum(lista))\n",
        "\n",
        "print(\"4:\")\n",
        "del lista[1]\n",
        "print(lista)\n",
        "\n",
        "#Añade otro elemento en la posicion 3 de la lista\n",
        "print(\"5:\")\n",
        "lista.insert(2,7)\n",
        "print(lista)\n",
        "\n",
        "#Crea otra lista con 4 elementos y concaténala a la que ya tenías.\n",
        "print(\"6:\")\n",
        "lista_2 = [5,6,7,8]\n",
        "conc = lista + lista_2\n",
        "print (conc)\n",
        "\n",
        "\n",
        "#Ordena la lista de menor a mayor.\n",
        "print(\"7:\")\n",
        "conc.sort()\n",
        "print(conc)\n",
        "\n",
        "\n",
        "#BONUS: Ordena la lista de mayor a menor.\n",
        "print(\"8:\")\n",
        "\n",
        "conc.sort(reverse=True)\n",
        "print(conc)"
      ]
    },
    {
      "cell_type": "code",
      "source": [],
      "metadata": {
        "id": "gB4SWkU5yfzy"
      },
      "execution_count": null,
      "outputs": []
    }
  ],
  "metadata": {
    "kernelspec": {
      "display_name": "Curso_Online_DATA",
      "language": "python",
      "name": "python3"
    },
    "language_info": {
      "codemirror_mode": {
        "name": "ipython",
        "version": 3
      },
      "file_extension": ".py",
      "mimetype": "text/x-python",
      "name": "python",
      "nbconvert_exporter": "python",
      "pygments_lexer": "ipython3",
      "version": "3.11.5"
    },
    "orig_nbformat": 4,
    "colab": {
      "provenance": [],
      "include_colab_link": true
    }
  },
  "nbformat": 4,
  "nbformat_minor": 0
}
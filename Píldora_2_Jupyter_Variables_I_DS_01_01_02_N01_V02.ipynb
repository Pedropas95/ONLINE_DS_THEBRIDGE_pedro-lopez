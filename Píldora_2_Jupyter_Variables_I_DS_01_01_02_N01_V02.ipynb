{
  "cells": [
    {
      "cell_type": "markdown",
      "metadata": {
        "id": "view-in-github",
        "colab_type": "text"
      },
      "source": [
        "<a href=\"https://colab.research.google.com/github/Pedropas95/ONLINE_DS_THEBRIDGE_pedro-lopez/blob/main/P%C3%ADldora_2_Jupyter_Variables_I_DS_01_01_02_N01_V02.ipynb\" target=\"_parent\"><img src=\"https://colab.research.google.com/assets/colab-badge.svg\" alt=\"Open In Colab\"/></a>"
      ]
    },
    {
      "cell_type": "markdown",
      "metadata": {
        "id": "t9k24ilStE3l"
      },
      "source": [
        "<img src=\"./img/TheBridge_logo_RGB_color.jpg\" width = 250>\n",
        "<img src=\"./img/python.jpg\" width = 250>"
      ]
    },
    {
      "cell_type": "markdown",
      "metadata": {
        "id": "3rV0f2u_tE3q"
      },
      "source": [
        "# Python Basics I: Variables\n",
        "\n",
        "\n",
        "Bienvenido a tu primer asalto con Python. Empezamos nuestra aventura declarando variables.\n",
        "\n",
        "Las variables son una manera de etiquetar y conservar los datos del programa para luego poder emplearlos en diferentes sitios."
      ]
    },
    {
      "cell_type": "markdown",
      "metadata": {
        "id": "MwBP-A48tE3r"
      },
      "source": [
        "## Contenidos"
      ]
    },
    {
      "cell_type": "markdown",
      "metadata": {
        "id": "YxEl7TqRtE3s"
      },
      "source": [
        "* [Variables numéricas\n",
        "](#Variables-numéricas\n",
        ")\n",
        "* [Cadenas de texto\n",
        "](#Cadenas-de-texto\n",
        ")\n",
        "* [Escribir mal el nombre\n",
        "](#Escribir-mal-el-nombre\n",
        ")\n",
        "* [Cerrar bien los strings\n",
        "](#Cerrar-bien-los-strings\n",
        ")\n",
        "* [Prohibido espacios en los nombres de las variables\n",
        "](#Prohibido-espacios-en-los-nombres-de-las-variables\n",
        ")\n",
        "* [Números en el nombre de la variable\n",
        "](#Números-en-el-nombre-de-la-variable\n",
        ")\n",
        "* [Sensible a mayusculas\n",
        "](#Sensible-a-mayusculas\n",
        ")\n",
        "* [Palabras reservadas\n",
        "](#Palabras-reservadas\n",
        ")\n",
        "* [Resumen variables\n",
        "](#Resumen-variables\n",
        ")\n"
      ]
    },
    {
      "cell_type": "markdown",
      "metadata": {
        "id": "cYafgflItE3t"
      },
      "source": [
        "### Variables numéricas\n",
        "[al indice](#Contenidos)\n",
        "\n"
      ]
    },
    {
      "cell_type": "code",
      "execution_count": 8,
      "metadata": {
        "id": "MtQbDAoPtE3u",
        "colab": {
          "base_uri": "https://localhost:8080/"
        },
        "outputId": "5380923b-9684-4b08-ffb3-bdae596a4022"
      },
      "outputs": [
        {
          "output_type": "stream",
          "name": "stdout",
          "text": [
            "[0.81246256 0.3977122  0.74293059 0.21665364 0.9360249  0.01665448\n",
            " 0.92332244 0.42937284 0.76412157 0.92123484]\n"
          ]
        }
      ],
      "source": [
        "# prompt: 10 random numbers using numpy\n",
        "\n",
        "import numpy as np\n",
        "\n",
        "random_numbers = np.random.rand(10)\n",
        "print(random_numbers)\n"
      ]
    },
    {
      "cell_type": "markdown",
      "metadata": {
        "id": "hQhUdzk5tE3v"
      },
      "source": [
        "**Esto es una asignación**. A la palabra *ingresos*, le asignamos un valor mediante `=`.\n",
        "Si queremos ver el valor de la variable, simplemente escribimos su nombre en una celda."
      ]
    },
    {
      "cell_type": "markdown",
      "source": [
        "ingresos = 1000  \n",
        "gastos = 400"
      ],
      "metadata": {
        "id": "RW4hNNxukpuV"
      }
    },
    {
      "cell_type": "code",
      "execution_count": 10,
      "metadata": {
        "id": "YEx19cXYtE3v",
        "colab": {
          "base_uri": "https://localhost:8080/",
          "height": 141
        },
        "outputId": "04cdba9f-341f-4937-aa1f-cf4fffae9ab6"
      },
      "outputs": [
        {
          "output_type": "error",
          "ename": "NameError",
          "evalue": "name 'ingresos' is not defined",
          "traceback": [
            "\u001b[0;31m---------------------------------------------------------------------------\u001b[0m",
            "\u001b[0;31mNameError\u001b[0m                                 Traceback (most recent call last)",
            "\u001b[0;32m<ipython-input-10-815984448ad8>\u001b[0m in \u001b[0;36m<cell line: 0>\u001b[0;34m()\u001b[0m\n\u001b[0;32m----> 1\u001b[0;31m \u001b[0mingresos\u001b[0m\u001b[0;34m\u001b[0m\u001b[0;34m\u001b[0m\u001b[0m\n\u001b[0m",
            "\u001b[0;31mNameError\u001b[0m: name 'ingresos' is not defined"
          ]
        }
      ],
      "source": [
        "ingresos"
      ]
    },
    {
      "cell_type": "code",
      "execution_count": 33,
      "metadata": {
        "id": "rfE5NpJGtE3w"
      },
      "outputs": [],
      "source": [
        "ingresos = 1000\n",
        "gastos = 400"
      ]
    },
    {
      "cell_type": "code",
      "execution_count": 12,
      "metadata": {
        "id": "NVNXRKbhtE3w",
        "colab": {
          "base_uri": "https://localhost:8080/",
          "height": 36
        },
        "outputId": "96ac4264-605f-480f-8e6a-65fec09bd93a"
      },
      "outputs": [
        {
          "output_type": "execute_result",
          "data": {
            "text/plain": [
              "'1000'"
            ],
            "application/vnd.google.colaboratory.intrinsic+json": {
              "type": "string"
            }
          },
          "metadata": {},
          "execution_count": 12
        }
      ],
      "source": [
        "ingresos"
      ]
    },
    {
      "cell_type": "code",
      "execution_count": 13,
      "metadata": {
        "id": "zw12hwr1tE3w",
        "colab": {
          "base_uri": "https://localhost:8080/",
          "height": 36
        },
        "outputId": "32bd2453-891e-40b4-c644-f4ff63c62aa5"
      },
      "outputs": [
        {
          "output_type": "execute_result",
          "data": {
            "text/plain": [
              "'400'"
            ],
            "application/vnd.google.colaboratory.intrinsic+json": {
              "type": "string"
            }
          },
          "metadata": {},
          "execution_count": 13
        }
      ],
      "source": [
        "ingresos\n",
        "gastos"
      ]
    },
    {
      "cell_type": "code",
      "execution_count": 15,
      "metadata": {
        "id": "lA_ydwrdtE3x",
        "colab": {
          "base_uri": "https://localhost:8080/"
        },
        "outputId": "09e130ff-a995-4779-be70-c74f927ca4cd"
      },
      "outputs": [
        {
          "output_type": "stream",
          "name": "stdout",
          "text": [
            "1000\n",
            "400\n"
          ]
        }
      ],
      "source": [
        "print(ingresos)\n",
        "print(gastos)"
      ]
    },
    {
      "cell_type": "code",
      "source": [
        "margen = ingresos - gastos"
      ],
      "metadata": {
        "id": "1zH-MRFsmhmX"
      },
      "execution_count": 36,
      "outputs": []
    },
    {
      "cell_type": "code",
      "source": [
        "margen"
      ],
      "metadata": {
        "colab": {
          "base_uri": "https://localhost:8080/"
        },
        "id": "Y92Lhcpyn6d6",
        "outputId": "a82ee471-9c7c-4837-cf53-acb1239bd4ce"
      },
      "execution_count": 37,
      "outputs": [
        {
          "output_type": "execute_result",
          "data": {
            "text/plain": [
              "600"
            ]
          },
          "metadata": {},
          "execution_count": 37
        }
      ]
    },
    {
      "cell_type": "code",
      "source": [
        "print(margen)"
      ],
      "metadata": {
        "colab": {
          "base_uri": "https://localhost:8080/"
        },
        "id": "Zm8nYESOo3fS",
        "outputId": "7db1fade-4ceb-4980-f729-5b9f5a6f6a1d"
      },
      "execution_count": 38,
      "outputs": [
        {
          "output_type": "stream",
          "name": "stdout",
          "text": [
            "600\n"
          ]
        }
      ]
    },
    {
      "cell_type": "markdown",
      "metadata": {
        "id": "XPdHX1MdtE3y"
      },
      "source": [
        "### Cadenas de texto\n",
        "[al indice](#Contenidos)\n",
        "\n",
        "Las cadenas de texto se declaran con comillas simples o dobles"
      ]
    },
    {
      "cell_type": "code",
      "source": [
        "ingresos_text = \"Los ingresos han sido altos\"\n",
        "ingresos_alt = 'Los ingresos han sido altos'\n",
        "print(ingresos_text)\n",
        "print(ingresos_alt)"
      ],
      "metadata": {
        "colab": {
          "base_uri": "https://localhost:8080/"
        },
        "id": "UwC7vAkDn82Y",
        "outputId": "b56f8d60-9bb0-4634-9d4a-0cc0d24ceca4"
      },
      "execution_count": 39,
      "outputs": [
        {
          "output_type": "stream",
          "name": "stdout",
          "text": [
            "Los ingresos han sido altos\n",
            "Los ingresos han sido altos\n"
          ]
        }
      ]
    },
    {
      "cell_type": "code",
      "source": [
        "ingresos_text = \"Los 'ingresos' han sido altos\""
      ],
      "metadata": {
        "id": "SDQKHSaFn90Q"
      },
      "execution_count": 41,
      "outputs": []
    },
    {
      "cell_type": "code",
      "source": [
        "ingresos_text"
      ],
      "metadata": {
        "colab": {
          "base_uri": "https://localhost:8080/",
          "height": 36
        },
        "id": "MauECrCln8xo",
        "outputId": "a3ea195b-631e-45df-b368-dd88b43aa5ef"
      },
      "execution_count": 42,
      "outputs": [
        {
          "output_type": "execute_result",
          "data": {
            "text/plain": [
              "\"Los 'ingresos' han sido altos\""
            ],
            "application/vnd.google.colaboratory.intrinsic+json": {
              "type": "string"
            }
          },
          "metadata": {},
          "execution_count": 42
        }
      ]
    },
    {
      "cell_type": "code",
      "source": [
        "ingresos_text = \"Los \"ingresos\" han sido altos\""
      ],
      "metadata": {
        "colab": {
          "base_uri": "https://localhost:8080/",
          "height": 106
        },
        "id": "3WCkCnnVn8qB",
        "outputId": "384cd28f-d38c-4d48-a853-3f96046ca93c"
      },
      "execution_count": 43,
      "outputs": [
        {
          "output_type": "error",
          "ename": "SyntaxError",
          "evalue": "invalid syntax (<ipython-input-43-23eb501d85f2>, line 1)",
          "traceback": [
            "\u001b[0;36m  File \u001b[0;32m\"<ipython-input-43-23eb501d85f2>\"\u001b[0;36m, line \u001b[0;32m1\u001b[0m\n\u001b[0;31m    ingresos_text = \"Los \"ingresos\" han sido altos\"\u001b[0m\n\u001b[0m                          ^\u001b[0m\n\u001b[0;31mSyntaxError\u001b[0m\u001b[0;31m:\u001b[0m invalid syntax\n"
          ]
        }
      ]
    },
    {
      "cell_type": "code",
      "source": [],
      "metadata": {
        "id": "gF3FHj92qO-K"
      },
      "execution_count": null,
      "outputs": []
    },
    {
      "cell_type": "markdown",
      "metadata": {
        "id": "RMqQkmCjtE30"
      },
      "source": [
        "Python es un lenguaje dinámico por lo que siempre podremos actualizar los valores de las variables. **Se recomienda usar nombres descriptivos para declarar las variables, pero no excesivamente largos**. Así evitamos sobreescribirlas sin querer.\n",
        "\n",
        "Por otro lado, cuidado con los caracteres ele y uno (`l` vs `1`), así como con cero y o (`0` vs `O`). Se suelen confundir.\n",
        "\n",
        "fatal vs fata1\n",
        "\n",
        "clarO vs clar0\n",
        "\n",
        "Reasignamos valor a gastos"
      ]
    },
    {
      "cell_type": "code",
      "execution_count": 44,
      "metadata": {
        "id": "NP-5U4aLtE30"
      },
      "outputs": [],
      "source": [
        "gastos = 200"
      ]
    },
    {
      "cell_type": "code",
      "execution_count": 45,
      "metadata": {
        "id": "1pGee75-tE31",
        "colab": {
          "base_uri": "https://localhost:8080/"
        },
        "outputId": "9aef3e66-ffac-44b8-fd02-6d94c9119a77"
      },
      "outputs": [
        {
          "output_type": "stream",
          "name": "stdout",
          "text": [
            "200\n"
          ]
        }
      ],
      "source": [
        "print(gastos)"
      ]
    },
    {
      "cell_type": "markdown",
      "metadata": {
        "id": "xPVtK8jStE31"
      },
      "source": [
        "Ahora la variable gastos vale 200. Si la última línea de una celda es una variable, su valor será el *output* de la celda: 200.\n",
        "\n",
        "Vale, ¿y de qué nos sirve guardar variables?\n",
        "\n",
        "Podremos usar estos datos posteriormente, en otro lugar del programa. Por ejemplo, si ahora en una celda nueva queremos obtener el beneficio, simplemente restamos los nombres de las variables"
      ]
    },
    {
      "cell_type": "code",
      "execution_count": 46,
      "metadata": {
        "id": "8MHi4eFetE31"
      },
      "outputs": [],
      "source": [
        "gastos = 100"
      ]
    },
    {
      "cell_type": "code",
      "execution_count": 47,
      "metadata": {
        "id": "4ltH3iPUtE32"
      },
      "outputs": [],
      "source": [
        "beneficios = ingresos - gastos"
      ]
    },
    {
      "cell_type": "code",
      "source": [
        "beneficios"
      ],
      "metadata": {
        "colab": {
          "base_uri": "https://localhost:8080/"
        },
        "id": "qBEDGBUVtHE4",
        "outputId": "f02abd3a-38d5-467b-9c28-ec60c736df76"
      },
      "execution_count": 48,
      "outputs": [
        {
          "output_type": "execute_result",
          "data": {
            "text/plain": [
              "900"
            ]
          },
          "metadata": {},
          "execution_count": 48
        }
      ]
    },
    {
      "cell_type": "markdown",
      "metadata": {
        "id": "DB10vsSatE32"
      },
      "source": [
        "<table align=\"left\">\n",
        " <tr><td width=\"80\"><img src=\"img/error.png\" style=\"width:auto;height:auto\"></td>\n",
        "     <td style=\"text-align:left\">\n",
        "         <h3>ERRORES en variables</h3>\n",
        "         \n",
        " </td></tr>\n",
        "</table>"
      ]
    },
    {
      "cell_type": "markdown",
      "metadata": {
        "id": "ZYUauRIatE33"
      },
      "source": [
        "### Escribir mal el nombre\n",
        "[al indice](#Contenidos)\n",
        "\n",
        "Un error típico cuando declaramos variables es **escribir su nombre mal, o llamar despues a la variable de forma errónea**. En tal caso, aparece un `NameError: name 'variable_que_no_existe' is not defined`"
      ]
    },
    {
      "cell_type": "code",
      "execution_count": 50,
      "metadata": {
        "id": "4ZbzHTYwtE33",
        "colab": {
          "base_uri": "https://localhost:8080/",
          "height": 141
        },
        "outputId": "3e0e095f-90f6-4d40-d40e-6494c41f6069"
      },
      "outputs": [
        {
          "output_type": "error",
          "ename": "NameError",
          "evalue": "name 'gstos' is not defined",
          "traceback": [
            "\u001b[0;31m---------------------------------------------------------------------------\u001b[0m",
            "\u001b[0;31mNameError\u001b[0m                                 Traceback (most recent call last)",
            "\u001b[0;32m<ipython-input-50-406f5bf58ceb>\u001b[0m in \u001b[0;36m<cell line: 0>\u001b[0;34m()\u001b[0m\n\u001b[0;32m----> 1\u001b[0;31m \u001b[0mgstos\u001b[0m\u001b[0;34m\u001b[0m\u001b[0;34m\u001b[0m\u001b[0m\n\u001b[0m",
            "\u001b[0;31mNameError\u001b[0m: name 'gstos' is not defined"
          ]
        }
      ],
      "source": [
        "gstos"
      ]
    },
    {
      "cell_type": "markdown",
      "metadata": {
        "id": "r2kVKhEutE34"
      },
      "source": [
        "Fíjate que te indica la línea donde se produce el error, el tipo de error (`NameError`), y una breve descripción del error."
      ]
    },
    {
      "cell_type": "markdown",
      "metadata": {
        "id": "ZbioKWXatE35"
      },
      "source": [
        "### Cerrar bien los strings\n",
        "[al indice](#Contenidos)\n",
        "\n",
        "\n",
        "Cuidado tambien cuando definamos una cadena de texto, y se nos olvide cerrarla con sus correspondientes comillas. Nos dará un `SyntaxError: EOL while scanning string literal` (End Of Line)"
      ]
    },
    {
      "cell_type": "code",
      "execution_count": 51,
      "metadata": {
        "id": "EiLxnbnttE35",
        "colab": {
          "base_uri": "https://localhost:8080/",
          "height": 106
        },
        "outputId": "ebe68ada-6fbe-4559-9b01-a3f1338d5516"
      },
      "outputs": [
        {
          "output_type": "error",
          "ename": "SyntaxError",
          "evalue": "unterminated string literal (detected at line 1) (<ipython-input-51-4b2f05de908f>, line 1)",
          "traceback": [
            "\u001b[0;36m  File \u001b[0;32m\"<ipython-input-51-4b2f05de908f>\"\u001b[0;36m, line \u001b[0;32m1\u001b[0m\n\u001b[0;31m    texto = \"Error sin comillas\u001b[0m\n\u001b[0m            ^\u001b[0m\n\u001b[0;31mSyntaxError\u001b[0m\u001b[0;31m:\u001b[0m unterminated string literal (detected at line 1)\n"
          ]
        }
      ],
      "source": [
        "texto = \"Error sin comillas"
      ]
    },
    {
      "cell_type": "code",
      "execution_count": null,
      "metadata": {
        "id": "7dTv8vvqtE36"
      },
      "outputs": [],
      "source": []
    },
    {
      "cell_type": "markdown",
      "metadata": {
        "id": "9vdLLFPEtE37"
      },
      "source": [
        "### Prohibido espacios en los nombres de las variables\n",
        "[al indice](#Contenidos)\n",
        "\n",
        "\n",
        "También dará error si tenemos un espacio en la declaración de la variable. Se recomienda mínusculas y guiones bajos para simular los espacios.\n",
        "\n",
        "**Los espacios que encuentres alrededor del igual se pueden usar perfectamente**. Es pura estética a la hora de leer el código."
      ]
    },
    {
      "cell_type": "code",
      "execution_count": 52,
      "metadata": {
        "id": "WPjckNTMtE38",
        "colab": {
          "base_uri": "https://localhost:8080/",
          "height": 106
        },
        "outputId": "e344244e-2169-4136-88e0-62d4942a1ada"
      },
      "outputs": [
        {
          "output_type": "error",
          "ename": "SyntaxError",
          "evalue": "invalid decimal literal (<ipython-input-52-87fff1b6285c>, line 1)",
          "traceback": [
            "\u001b[0;36m  File \u001b[0;32m\"<ipython-input-52-87fff1b6285c>\"\u001b[0;36m, line \u001b[0;32m1\u001b[0m\n\u001b[0;31m    2009_ingresos\u001b[0m\n\u001b[0m        ^\u001b[0m\n\u001b[0;31mSyntaxError\u001b[0m\u001b[0;31m:\u001b[0m invalid decimal literal\n"
          ]
        }
      ],
      "source": [
        "2009_ingresos"
      ]
    },
    {
      "cell_type": "code",
      "execution_count": 53,
      "metadata": {
        "id": "_T213ZjhtE38"
      },
      "outputs": [],
      "source": [
        "ingresos_2009 = 25000"
      ]
    },
    {
      "cell_type": "markdown",
      "metadata": {
        "id": "SQk2oMDztE38"
      },
      "source": [
        "### Números en el nombre de la variable\n",
        "[al indice](#Contenidos)\n",
        "\n",
        "Ojo con los números cuando declaremos variables. En ocasiones es determinante describir nuestra variable con algún número. En tal caso, ponlo siempre al final del nombre de la variable, ya que sino saltará un error."
      ]
    },
    {
      "cell_type": "code",
      "execution_count": 56,
      "metadata": {
        "id": "FdEhMMn_tE39",
        "colab": {
          "base_uri": "https://localhost:8080/",
          "height": 106
        },
        "outputId": "4d6fd7d3-368b-4d2b-b2fc-4933393aad3e"
      },
      "outputs": [
        {
          "output_type": "error",
          "ename": "SyntaxError",
          "evalue": "invalid decimal literal (<ipython-input-56-87fff1b6285c>, line 1)",
          "traceback": [
            "\u001b[0;36m  File \u001b[0;32m\"<ipython-input-56-87fff1b6285c>\"\u001b[0;36m, line \u001b[0;32m1\u001b[0m\n\u001b[0;31m    2009_ingresos\u001b[0m\n\u001b[0m        ^\u001b[0m\n\u001b[0;31mSyntaxError\u001b[0m\u001b[0;31m:\u001b[0m invalid decimal literal\n"
          ]
        }
      ],
      "source": [
        "2009_ingresos"
      ]
    },
    {
      "cell_type": "markdown",
      "metadata": {
        "id": "SFaxnvWctE39"
      },
      "source": [
        "### Sensible a mayusculas\n",
        "[al indice](#Contenidos)\n",
        "\n",
        "\n",
        "Mucho cuidado con las mayusculas y minusculas porque Python no las ignora. Si todas las letras de una variable están en mayusculas, tendremos que usarla en mayusculas, sino dará un error de que no encuentra la variable."
      ]
    },
    {
      "cell_type": "code",
      "execution_count": 55,
      "metadata": {
        "id": "gJyO5-VStE3-",
        "colab": {
          "base_uri": "https://localhost:8080/",
          "height": 141
        },
        "outputId": "bc57f8e0-b035-47bb-a312-f1a780f3501b"
      },
      "outputs": [
        {
          "output_type": "error",
          "ename": "NameError",
          "evalue": "name 'Ingresos_2009' is not defined",
          "traceback": [
            "\u001b[0;31m---------------------------------------------------------------------------\u001b[0m",
            "\u001b[0;31mNameError\u001b[0m                                 Traceback (most recent call last)",
            "\u001b[0;32m<ipython-input-55-1a5543b782c9>\u001b[0m in \u001b[0;36m<cell line: 0>\u001b[0;34m()\u001b[0m\n\u001b[0;32m----> 1\u001b[0;31m \u001b[0mprint\u001b[0m\u001b[0;34m(\u001b[0m\u001b[0mIngresos_2009\u001b[0m\u001b[0;34m)\u001b[0m\u001b[0;34m\u001b[0m\u001b[0;34m\u001b[0m\u001b[0m\n\u001b[0m",
            "\u001b[0;31mNameError\u001b[0m: name 'Ingresos_2009' is not defined"
          ]
        }
      ],
      "source": [
        "print(Ingresos_2009)"
      ]
    },
    {
      "cell_type": "code",
      "execution_count": null,
      "metadata": {
        "id": "MfCnT548tE3_"
      },
      "outputs": [],
      "source": []
    },
    {
      "cell_type": "markdown",
      "metadata": {
        "id": "dWZypPVKtE3_"
      },
      "source": [
        "### Palabras reservadas\n",
        "[al indice](#Contenidos)\n",
        "\n",
        "\n",
        "En Python, como en otros lenguajes, hay una serie de palabras reservadas que tienen un significado para el intérprete de Python y por lo tanto no podemos usar para ponerle nombre a nuestras variables.\n",
        "\n",
        "Por ejemplo, `def` se usa para definir funciones en Python (lo veremos en otros notebooks), por lo que no podemos emplear `def` para nombrar a nuestras variables"
      ]
    },
    {
      "cell_type": "code",
      "execution_count": 57,
      "metadata": {
        "id": "oGXjiD6gtE4A",
        "colab": {
          "base_uri": "https://localhost:8080/",
          "height": 106
        },
        "outputId": "5ab83f53-80da-4e6e-8d11-cb65b0f01adb"
      },
      "outputs": [
        {
          "output_type": "error",
          "ename": "SyntaxError",
          "evalue": "invalid syntax (<ipython-input-57-62f5cf358967>, line 1)",
          "traceback": [
            "\u001b[0;36m  File \u001b[0;32m\"<ipython-input-57-62f5cf358967>\"\u001b[0;36m, line \u001b[0;32m1\u001b[0m\n\u001b[0;31m    def = 10\u001b[0m\n\u001b[0m        ^\u001b[0m\n\u001b[0;31mSyntaxError\u001b[0m\u001b[0;31m:\u001b[0m invalid syntax\n"
          ]
        }
      ],
      "source": [
        "def = 10"
      ]
    },
    {
      "cell_type": "markdown",
      "metadata": {
        "id": "qoGOB0y0tE4B"
      },
      "source": [
        "Consulta la lista de palabras reservadas de Python"
      ]
    },
    {
      "cell_type": "code",
      "execution_count": 58,
      "metadata": {
        "id": "uOUoeAbvtE4B",
        "colab": {
          "base_uri": "https://localhost:8080/"
        },
        "outputId": "5e86780d-5f69-44a1-cc57-7182a3159e66"
      },
      "outputs": [
        {
          "output_type": "stream",
          "name": "stdout",
          "text": [
            "['False', 'None', 'True', 'and', 'as', 'assert', 'async', 'await', 'break', 'class', 'continue', 'def', 'del', 'elif', 'else', 'except', 'finally', 'for', 'from', 'global', 'if', 'import', 'in', 'is', 'lambda', 'nonlocal', 'not', 'or', 'pass', 'raise', 'return', 'try', 'while', 'with', 'yield']\n"
          ]
        }
      ],
      "source": [
        "import keyword\n",
        "print(keyword.kwlist)"
      ]
    },
    {
      "cell_type": "code",
      "execution_count": 59,
      "metadata": {
        "id": "iwNSgwQxtE4C",
        "colab": {
          "base_uri": "https://localhost:8080/"
        },
        "outputId": "12f90f86-a574-4b74-fb15-b94e84ba2290"
      },
      "outputs": [
        {
          "output_type": "stream",
          "name": "stdout",
          "text": [
            "\n",
            "Here is a list of the Python keywords.  Enter any keyword to get more help.\n",
            "\n",
            "False               class               from                or\n",
            "None                continue            global              pass\n",
            "True                def                 if                  raise\n",
            "and                 del                 import              return\n",
            "as                  elif                in                  try\n",
            "assert              else                is                  while\n",
            "async               except              lambda              with\n",
            "await               finally             nonlocal            yield\n",
            "break               for                 not                 \n",
            "\n"
          ]
        }
      ],
      "source": [
        "help(\"keywords\")"
      ]
    },
    {
      "cell_type": "markdown",
      "metadata": {
        "id": "ruqMFYGotE4C"
      },
      "source": [
        "### Resumen variables\n",
        "[al indice](#Contenidos)\n",
        "\n",
        "\n",
        "En resumen:\n",
        "* Usar minusculas. Sensible a mayusculas/minusculas\n",
        "* No usar espacios\n",
        "* No usar palabras reservadas\n",
        "* No usar numeros al principio de la variable\n",
        "* Cuidado con los caracteres `l`, `1`, `O`, `0`"
      ]
    },
    {
      "cell_type": "code",
      "execution_count": null,
      "metadata": {
        "id": "Zl6zXwnCtE4D"
      },
      "outputs": [],
      "source": []
    },
    {
      "cell_type": "code",
      "execution_count": null,
      "metadata": {
        "id": "niJSVJ_qtE4D"
      },
      "outputs": [],
      "source": []
    },
    {
      "cell_type": "code",
      "execution_count": null,
      "metadata": {
        "id": "PCoKUu9btE4E"
      },
      "outputs": [],
      "source": []
    }
  ],
  "nbformat": 4,
  "nbformat_minor": 0,
  "metadata": {
    "kernelspec": {
      "display_name": "Python 3 (ipykernel)",
      "language": "python",
      "name": "python3"
    },
    "language_info": {
      "codemirror_mode": {
        "name": "ipython",
        "version": 3
      },
      "file_extension": ".py",
      "mimetype": "text/x-python",
      "name": "python",
      "nbconvert_exporter": "python",
      "pygments_lexer": "ipython3",
      "version": "3.11.5"
    },
    "nbTranslate": {
      "displayLangs": [
        "*"
      ],
      "hotkey": "alt-t",
      "langInMainMenu": true,
      "sourceLang": "en",
      "targetLang": "fr",
      "useGoogleTranslate": true
    },
    "varInspector": {
      "cols": {
        "lenName": 16,
        "lenType": 16,
        "lenVar": 40
      },
      "kernels_config": {
        "python": {
          "delete_cmd_postfix": "",
          "delete_cmd_prefix": "del ",
          "library": "var_list.py",
          "varRefreshCmd": "print(var_dic_list())"
        },
        "r": {
          "delete_cmd_postfix": ") ",
          "delete_cmd_prefix": "rm(",
          "library": "var_list.r",
          "varRefreshCmd": "cat(var_dic_list()) "
        }
      },
      "types_to_exclude": [
        "module",
        "function",
        "builtin_function_or_method",
        "instance",
        "_Feature"
      ],
      "window_display": false
    },
    "colab": {
      "provenance": [],
      "include_colab_link": true
    }
  }
}
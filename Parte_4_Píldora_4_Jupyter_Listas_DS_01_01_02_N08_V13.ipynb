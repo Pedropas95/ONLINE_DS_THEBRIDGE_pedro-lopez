{
  "cells": [
    {
      "cell_type": "markdown",
      "metadata": {
        "id": "view-in-github",
        "colab_type": "text"
      },
      "source": [
        "<a href=\"https://colab.research.google.com/github/Pedropas95/ONLINE_DS_THEBRIDGE_pedro-lopez/blob/main/Parte_4_P%C3%ADldora_4_Jupyter_Listas_DS_01_01_02_N08_V13.ipynb\" target=\"_parent\"><img src=\"https://colab.research.google.com/assets/colab-badge.svg\" alt=\"Open In Colab\"/></a>"
      ]
    },
    {
      "cell_type": "markdown",
      "metadata": {
        "id": "LE7DkG4rrHWW"
      },
      "source": [
        "<img src = \"./img/TheBridge_logo_RGB_color.jpg\" width = 500><img src = \"./img/python.jpg\" width = 500>"
      ]
    },
    {
      "cell_type": "markdown",
      "metadata": {
        "id": "ilYEA0hwrHWY"
      },
      "source": [
        "# Python Basics I"
      ]
    },
    {
      "cell_type": "markdown",
      "metadata": {
        "id": "U-c2FF4FrHWY"
      },
      "source": [
        "## Contenidos"
      ]
    },
    {
      "cell_type": "markdown",
      "metadata": {
        "id": "CLQVWcl1rHWY"
      },
      "source": [
        "* [Listas\n",
        "](#Listas\n",
        ")\n"
      ]
    },
    {
      "cell_type": "markdown",
      "metadata": {
        "id": "piUQM23erHWY"
      },
      "source": [
        "## Listas\n",
        "[al indice](#Contenidos)  \n",
        "Se trata de otro de los tipos de datos de Python más usados. Dentro de las colecciones, que veremos más adelante, la lista es la colección que normalmente se le da más uso. **Nos permiten almacenar conjuntos de variables u objetos**, y son elementos de lo más versátiles puesto que podemos almacenar objetos de distintos tipos, modificarlos, eliminarlos, meter listas dentro de listas... Sus dos caractrísticas principales son:\n",
        "* **Mutables**: una vez se ha creado la lista, se puede modificar\n",
        "* **Ordenada**: Los elementos tienen un cierto orden, lo que nos permite acceder al elemento que queramos teniendo en cuenta tal orden\n",
        "\n",
        "En cuanto a su sintaxis, cuando declaremos la lista simplemente hay que separar cada elemento con comas, y rodearlo todo con corchetes."
      ]
    },
    {
      "cell_type": "code",
      "execution_count": 1,
      "metadata": {
        "id": "jDbfZbmkrHWZ",
        "outputId": "30c53017-0925-42bb-8bd3-1f6bd16c9ba5",
        "colab": {
          "base_uri": "https://localhost:8080/"
        }
      },
      "outputs": [
        {
          "output_type": "stream",
          "name": "stdout",
          "text": [
            "[1, 3, 5, 6]\n",
            "<class 'list'>\n"
          ]
        }
      ],
      "source": [
        "# lista de números\n",
        "\n",
        "numeros = [1,3,5,6]\n",
        "print(numeros)\n",
        "print(type(numeros))"
      ]
    },
    {
      "cell_type": "code",
      "execution_count": 4,
      "metadata": {
        "id": "qGnR035irHWZ",
        "outputId": "068afe45-d5f7-4211-d4d9-3f35ca2c381b",
        "colab": {
          "base_uri": "https://localhost:8080/"
        }
      },
      "outputs": [
        {
          "output_type": "stream",
          "name": "stdout",
          "text": [
            "['esto', 'es', 'una', 'lista']\n",
            "<class 'list'>\n"
          ]
        }
      ],
      "source": [
        "# lista de strings\n",
        "\n",
        "strings = [\"esto\",\"es\",\"una\",\"lista\"]\n",
        "print(strings)\n",
        "print(type(strings))"
      ]
    },
    {
      "cell_type": "code",
      "source": [
        "#lista de booleanos\n",
        "\n",
        "booleanos =  [True,False,not True, True or False, False and False]\n",
        "print(booleanos)"
      ],
      "metadata": {
        "id": "N-vdfICfsZ5m",
        "outputId": "2d2d8275-d29b-464d-9d87-c6fbe87fbe0d",
        "colab": {
          "base_uri": "https://localhost:8080/"
        }
      },
      "execution_count": 5,
      "outputs": [
        {
          "output_type": "stream",
          "name": "stdout",
          "text": [
            "[True, False, False, True, False]\n"
          ]
        }
      ]
    },
    {
      "cell_type": "code",
      "source": [
        "#lista de tipos mezclados\n",
        "\n",
        "mix = [\"esto es\", 12, -34.5, True, False, \"lista\"]\n",
        "print(mix)\n",
        "print(type(mix))\n",
        "\n",
        "#listas dentro de listas\n",
        "\n",
        "listas = [\"gola\",\"12\",23, [23,True,False]]\n",
        "print(listas)\n",
        "print(type(listas))"
      ],
      "metadata": {
        "id": "pGLe9q3us0u8",
        "outputId": "f69354fd-b3a4-468e-dcde-7ec7f7d86d29",
        "colab": {
          "base_uri": "https://localhost:8080/"
        }
      },
      "execution_count": 10,
      "outputs": [
        {
          "output_type": "stream",
          "name": "stdout",
          "text": [
            "['esto es', 12, -34.5, True, False, 'lista']\n",
            "<class 'list'>\n",
            "['gola', '12', 23, [23, True, False]]\n",
            "<class 'list'>\n"
          ]
        }
      ]
    },
    {
      "cell_type": "code",
      "source": [
        "len(listas),len(mix)"
      ],
      "metadata": {
        "id": "iBo7ESORuVo-",
        "outputId": "fff6446b-7e10-416e-83bb-c3bf9408495d",
        "colab": {
          "base_uri": "https://localhost:8080/"
        }
      },
      "execution_count": 13,
      "outputs": [
        {
          "output_type": "execute_result",
          "data": {
            "text/plain": [
              "(4, 6)"
            ]
          },
          "metadata": {},
          "execution_count": 13
        }
      ]
    },
    {
      "cell_type": "code",
      "source": [
        "concatenacion = mix + listas\n",
        "print(concatenacion)\n",
        "print(type(concatenacion))"
      ],
      "metadata": {
        "id": "Vql-HiXBuh-1",
        "outputId": "74297c1f-f350-4e39-9ec5-ed69d1f2aedb",
        "colab": {
          "base_uri": "https://localhost:8080/"
        }
      },
      "execution_count": 14,
      "outputs": [
        {
          "output_type": "stream",
          "name": "stdout",
          "text": [
            "['esto es', 12, -34.5, True, False, 'lista', 'gola', '12', 23, [23, True, False]]\n",
            "<class 'list'>\n"
          ]
        }
      ]
    },
    {
      "cell_type": "code",
      "source": [
        "concatenacion = listas + mix\n",
        "print(concatenacion)"
      ],
      "metadata": {
        "id": "1Th606EzuwMV",
        "outputId": "a9bfd1c5-45d0-4266-c069-ec8f1c161180",
        "colab": {
          "base_uri": "https://localhost:8080/"
        }
      },
      "execution_count": 15,
      "outputs": [
        {
          "output_type": "stream",
          "name": "stdout",
          "text": [
            "['gola', '12', 23, [23, True, False], 'esto es', 12, -34.5, True, False, 'lista']\n"
          ]
        }
      ]
    },
    {
      "cell_type": "markdown",
      "source": [],
      "metadata": {
        "id": "LNeCVeYBspkV"
      }
    },
    {
      "cell_type": "markdown",
      "metadata": {
        "id": "kuAspVGsrHWa"
      },
      "source": [
        "**NOTA**: ¿Ves por qué los decimales en Python siempre van con puntos y no con comas? Con las colecciones el intérprete de Python se volvería loco.\n",
        "\n",
        "Podemos ver tambien el tipo de la lista"
      ]
    },
    {
      "cell_type": "code",
      "execution_count": 16,
      "metadata": {
        "id": "e60XK__-rHWa",
        "outputId": "03939caa-50fc-4df4-b820-60a72fa318f5",
        "colab": {
          "base_uri": "https://localhost:8080/"
        }
      },
      "outputs": [
        {
          "output_type": "execute_result",
          "data": {
            "text/plain": [
              "list"
            ]
          },
          "metadata": {},
          "execution_count": 16
        }
      ],
      "source": [
        "type(mix)"
      ]
    },
    {
      "cell_type": "markdown",
      "metadata": {
        "id": "WGDfl66RrHWa"
      },
      "source": [
        "Calcular la longitud de la misma mediante el método *built-in* ya visto: `len()`"
      ]
    },
    {
      "cell_type": "code",
      "execution_count": 17,
      "metadata": {
        "id": "YdESc6fOrHWa",
        "outputId": "1e4687bf-aab4-49c2-f236-956672ab8106",
        "colab": {
          "base_uri": "https://localhost:8080/"
        }
      },
      "outputs": [
        {
          "output_type": "execute_result",
          "data": {
            "text/plain": [
              "6"
            ]
          },
          "metadata": {},
          "execution_count": 17
        }
      ],
      "source": [
        "len(mix)"
      ]
    },
    {
      "cell_type": "markdown",
      "metadata": {
        "id": "R5k7Gr5mrHWa"
      },
      "source": [
        "Accedemos a los elemenos de la lista mediante corchetes `[]`\n",
        "\n",
        "**Importante**. El primer elemento es el 0"
      ]
    },
    {
      "cell_type": "code",
      "execution_count": 22,
      "metadata": {
        "id": "YibAtJhKrHWa",
        "outputId": "2f8f97c0-9652-46e0-d33b-aa29a1f7c71f",
        "colab": {
          "base_uri": "https://localhost:8080/"
        }
      },
      "outputs": [
        {
          "output_type": "stream",
          "name": "stdout",
          "text": [
            "esto\n",
            "patata\n",
            "3\n",
            "3\n"
          ]
        }
      ],
      "source": [
        "lista_ejemplo = [\"esto\",2,3,\"patata\"]\n",
        "print(lista_ejemplo[0])\n",
        "print(lista_ejemplo[-1])\n",
        "print(lista_ejemplo[-2])\n",
        "print(lista_ejemplo[2])\n"
      ]
    },
    {
      "cell_type": "markdown",
      "metadata": {
        "id": "gc_TqyuZrHWa"
      },
      "source": [
        "### Metodos en Listas\n",
        "Para el tipo de objeto lista, también hay una serie de métodos catacterísticos que nos permiten operar con ellas: añadir valores, quitarlos, indexado, filtrado, etc... En [este enlace](https://www.w3schools.com/python/python_ref_list.asp) puedes encontrar todos los métodos que podrás usar con listas."
      ]
    },
    {
      "cell_type": "code",
      "execution_count": 25,
      "metadata": {
        "id": "aH-fAmv7rHWb",
        "outputId": "ec74fef7-d902-4cad-bd78-7b3e23f1e8e2",
        "colab": {
          "base_uri": "https://localhost:8080/"
        }
      },
      "outputs": [
        {
          "output_type": "stream",
          "name": "stdout",
          "text": [
            "['física', 'química', 'matemáticas', 'literatura', 'filosofía']\n"
          ]
        }
      ],
      "source": [
        "asignaturas = [\"física\",\"química\",\"matemáticas\",\"literatura\"]\n",
        "\n",
        "#añadir un elemento a una lista\n",
        "\n",
        "asignaturas.append(\"filosofía\")\n",
        "\n",
        "print(asignaturas)"
      ]
    },
    {
      "cell_type": "code",
      "source": [
        "#añadir elemenos en una posicion deteerminada\n",
        "print(asignaturas)\n",
        "\n",
        "asignaturas.insert(1,\"gimnasia\")\n",
        "\n",
        "print(asignaturas)\n"
      ],
      "metadata": {
        "id": "_p8cdrIXwx0r",
        "outputId": "9d1a7ae0-931e-4553-b19a-13eb19feb388",
        "colab": {
          "base_uri": "https://localhost:8080/"
        }
      },
      "execution_count": 33,
      "outputs": [
        {
          "output_type": "stream",
          "name": "stdout",
          "text": [
            "['gimnasia', 'gimnasia']\n"
          ]
        }
      ]
    },
    {
      "cell_type": "code",
      "source": [
        "asignaturas.pop(1)\n",
        "print(asignaturas)"
      ],
      "metadata": {
        "id": "4E4oRXTkw84k",
        "outputId": "3b6bf47d-9a55-423b-c02b-09e12a9fa3cb",
        "colab": {
          "base_uri": "https://localhost:8080/"
        }
      },
      "execution_count": 34,
      "outputs": [
        {
          "output_type": "stream",
          "name": "stdout",
          "text": [
            "['gimnasia']\n"
          ]
        }
      ]
    },
    {
      "cell_type": "code",
      "source": [],
      "metadata": {
        "id": "IgDqJpdXw8y6"
      },
      "execution_count": null,
      "outputs": []
    },
    {
      "cell_type": "markdown",
      "source": [],
      "metadata": {
        "id": "DAq1J9zHwXUt"
      }
    },
    {
      "cell_type": "code",
      "execution_count": null,
      "metadata": {
        "id": "khDeStIYrHWb"
      },
      "outputs": [],
      "source": []
    },
    {
      "cell_type": "code",
      "execution_count": null,
      "metadata": {
        "id": "-LWUnRiBrHWb"
      },
      "outputs": [],
      "source": []
    }
  ],
  "nbformat": 4,
  "nbformat_minor": 0,
  "metadata": {
    "kernelspec": {
      "display_name": "Python 3",
      "language": "python",
      "name": "python3"
    },
    "language_info": {
      "codemirror_mode": {
        "name": "ipython",
        "version": 3
      },
      "file_extension": ".py",
      "mimetype": "text/x-python",
      "name": "python",
      "nbconvert_exporter": "python",
      "pygments_lexer": "ipython3",
      "version": "3.8.3"
    },
    "colab": {
      "provenance": [],
      "include_colab_link": true
    }
  }
}